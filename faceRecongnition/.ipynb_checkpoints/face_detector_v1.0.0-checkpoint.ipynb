{
 "cells": [
  {
   "cell_type": "code",
   "execution_count": null,
   "metadata": {
    "collapsed": true
   },
   "outputs": [],
   "source": [
    "# -*- coding: utf-8 -*-\n",
    " \n",
    "import sys\n",
    " \n",
    "import dlib\n",
    " \n",
    "from skimage import io\n",
    " \n",
    " \n",
    "#使用dlib自带的frontal_face_detector作为我们的特征提取器\n",
    "detector = dlib.get_frontal_face_detector()\n",
    " \n",
    "#使用dlib提供的图片窗口\n",
    "win = dlib.image_window()\n",
    " \n",
    "#sys.argv[]是用来获取命令行参数的，sys.argv[0]表示代码本身文件路径，所以参数从1开始向后依次获取图片路径\n",
    "for f in sys.argv[1:]:\n",
    " \n",
    "    #输出目前处理的图片地址\n",
    "    print(\"Processing file: {}\".format(f))\n",
    " \n",
    "    #使用skimage的io读取图片\n",
    "    img = io.imread(f)\n",
    " \n",
    "    #使用detector进行人脸检测 dets为返回的结果\n",
    "    dets = detector(img, 1)\n",
    " \n",
    "    #dets的元素个数即为脸的个数\n",
    "    print(\"Number of faces detected: {}\".format(len(dets)))\n",
    " \n",
    "    #使用enumerate 函数遍历序列中的元素以及它们的下标\n",
    "    #下标i即为人脸序号\n",
    "    #left：人脸左边距离图片左边界的距离 ；right：人脸右边距离图片左边界的距离 \n",
    "    #top：人脸上边距离图片上边界的距离 ；bottom：人脸下边距离图片上边界的距离\n",
    "    for i, d in enumerate(dets):\n",
    "        print(\"dets{}\".format(d))\n",
    "        print(\"Detection {}: Left: {} Top: {} Right: {} Bottom: {}\"\n",
    "            .format( i, d.left(), d.top(), d.right(), d.bottom()))\n",
    " \n",
    "    #也可以获取比较全面的信息，如获取人脸与detector的匹配程度\n",
    "    dets, scores, idx = detector.run(img, 1)\n",
    "    for i, d in enumerate(dets):\n",
    "        print(\"Detection {}, dets{},score: {}, face_type:{}\".format( i, d, scores[i], idx[i]))    \n",
    " \n",
    "    #绘制图片(dlib的ui库可以直接绘制dets)\n",
    "    win.set_image(img)\n",
    "    win.add_overlay(dets)\n",
    " \n",
    "    #等待点击\n",
    "    dlib.hit_enter_to_continue()\n",
    "    "
   ]
  }
 ],
 "metadata": {
  "kernelspec": {
   "display_name": "Python 3",
   "language": "python",
   "name": "python3"
  },
  "language_info": {
   "codemirror_mode": {
    "name": "ipython",
    "version": 3
   },
   "file_extension": ".py",
   "mimetype": "text/x-python",
   "name": "python",
   "nbconvert_exporter": "python",
   "pygments_lexer": "ipython3",
   "version": "3.6.3"
  }
 },
 "nbformat": 4,
 "nbformat_minor": 2
}
